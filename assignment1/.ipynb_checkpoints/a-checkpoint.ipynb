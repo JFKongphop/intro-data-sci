{
 "cells": [
  {
   "cell_type": "markdown",
   "metadata": {},
   "source": [
    "# Assignment - Bangkok Airbnb dataset (15%, due 9th Jan 11.59 pm.)\n",
    "Explore this Bangkok Airbnb dataset with Pandas on GoogleColab and answer these questions below. Note that every answer to the questions must accompany by python code displaying how to reach that answer. Failure to display the python code will result in a score deduction.\n",
    "\n",
    "File 1) calendar.csv - The calendar file records the price, availability, and other details in properties.\n",
    "*   listing_id : Airbnb's unique identifier for the listing\n",
    "*   date : The date in the listing's calendar\n",
    "*   available : Whether the date is available for a booking [boolean T/F]\n",
    "*   price : The price (baht) listed for the day.\n",
    "\n",
    "File 2) listings.csv - The listings file includes essential information regarding properties.\n",
    "*  id : Airbnb's unique identifier for the listing\n",
    "* name : Name of the listing\n",
    "* beds : a number of bedrooms in the listing,\n",
    "* host_name: Name of the host. Usually, just the first name(s)\n",
    "* neighbourhood_cleansed: a district name in Bangkok where the listing is.\n",
    "* amenities: a desirable or useful feature(s) on the listing. This column is in a list of string format.\n",
    "* property_type: Self-selected property type.\n",
    "\n",
    "Answer the questions below.\n",
    "1. [xx, yy] What is the number of listing(rows) in calendar.csv and listings.csv?\n",
    "2. How many of the listing properties with equal two or more beds are in the \"Bang Sue\" district?\n",
    "3. How many unique items in \"amenities\" are shown in the listing? What are the top three most popular \"amenities\"?\n",
    "4. How many listing records are in Sep 2022 on carlendar.csv? The same listing_id on different dates is considered a different record.\n",
    "5. What is the highest average price on the listing? The average price is the average price of the same listing_id in all records/rows on the carlendar.csv.  \n",
    "6. How many listing_id(s) do we observe where the lowest and highest prices differ more than 10,000 baht?\n",
    "7. If we consider this price difference in 6. as malicious activity and want to remove them as outliers using the z-score statistical method. How many listing_id(s) do we observe as outliers?\n",
    "An outlier threshold value is 3.0.\n",
    "Hint 7. a) https://www.geeksforgeeks.org/detect-and-remove-the-outliers-using-python/\n",
    "Hint 7. b) use can apply the NumPy function directly to Pandas \"Series\" as a new column.\n",
    "8. Show malicious host_name from 7.\n",
    "9. Find the number of listings for each host from 7.\n",
    "\n",
    "-------From 10 - 15, please remove malicious listing_id in the calculation. ------\n",
    "\n",
    "10. Find The top 3 districts with the most listings.\n",
    "11. Find the top 3 most common property_type.\n",
    "12. If we are looking for a property with two bedrooms in the Parthum Wan district,  how many options(listing_id) do we have?  \n",
    "13. From 12, what is the price range on those options? Use the average price as the price of a listing property.  \n",
    "14. If we are looking for a property with two bedrooms in the Parthum Wan district and has \"review_scores_rating\" >= 3,  how many options(listing_id) do we have?  \n",
    "15. From 14, what is the price average of listing properties on question 14 conditions (two bedrooms in the Parthum Wan district and has \"review_scores_rating\" >= 3)\n",
    "* hint: average on average is taboo.\n",
    "\n",
    "Please submit your colab worksheet to google classroom by 9th Jan 11.59 pm. Late submission will deduct 1% per day.\n"
   ]
  },
  {
   "cell_type": "code",
   "execution_count": 97,
   "metadata": {},
   "outputs": [],
   "source": [
    "import pandas as pd\n",
    "from ast import literal_eval\n",
    "import numpy as np\n",
    "import matplotlib.pyplot as plt\n",
    "pd.set_option('display.max_columns', 74)\n",
    "pd.set_option('display.width', 500)\n",
    "\n",
    "df_Carl = pd.read_csv('calendar.csv')\n",
    "df_List = pd.read_csv('listings.csv')\n",
    "\n",
    "df_List[\"amenities\"]= df_List['amenities'].apply(lambda x: literal_eval(str(x)))\n",
    "\n"
   ]
  },
  {
   "cell_type": "code",
   "execution_count": 139,
   "metadata": {},
   "outputs": [
    {
     "data": {
      "text/html": [
       "<div>\n",
       "<style scoped>\n",
       "    .dataframe tbody tr th:only-of-type {\n",
       "        vertical-align: middle;\n",
       "    }\n",
       "\n",
       "    .dataframe tbody tr th {\n",
       "        vertical-align: top;\n",
       "    }\n",
       "\n",
       "    .dataframe thead th {\n",
       "        text-align: right;\n",
       "    }\n",
       "</style>\n",
       "<table border=\"1\" class=\"dataframe\">\n",
       "  <thead>\n",
       "    <tr style=\"text-align: right;\">\n",
       "      <th></th>\n",
       "      <th>listing_id</th>\n",
       "      <th>date</th>\n",
       "      <th>available</th>\n",
       "      <th>price</th>\n",
       "      <th>minimum_nights</th>\n",
       "      <th>maximum_nights</th>\n",
       "    </tr>\n",
       "  </thead>\n",
       "  <tbody>\n",
       "    <tr>\n",
       "      <th>0</th>\n",
       "      <td>645048906856594097</td>\n",
       "      <td>2022-06-20</td>\n",
       "      <td>t</td>\n",
       "      <td>890.0</td>\n",
       "      <td>1.0</td>\n",
       "      <td>365.0</td>\n",
       "    </tr>\n",
       "    <tr>\n",
       "      <th>1</th>\n",
       "      <td>645048906856594097</td>\n",
       "      <td>2022-06-21</td>\n",
       "      <td>t</td>\n",
       "      <td>890.0</td>\n",
       "      <td>1.0</td>\n",
       "      <td>365.0</td>\n",
       "    </tr>\n",
       "    <tr>\n",
       "      <th>2</th>\n",
       "      <td>645048906856594097</td>\n",
       "      <td>2022-06-22</td>\n",
       "      <td>t</td>\n",
       "      <td>890.0</td>\n",
       "      <td>1.0</td>\n",
       "      <td>365.0</td>\n",
       "    </tr>\n",
       "    <tr>\n",
       "      <th>3</th>\n",
       "      <td>645048906856594097</td>\n",
       "      <td>2022-06-23</td>\n",
       "      <td>t</td>\n",
       "      <td>890.0</td>\n",
       "      <td>1.0</td>\n",
       "      <td>365.0</td>\n",
       "    </tr>\n",
       "    <tr>\n",
       "      <th>4</th>\n",
       "      <td>645048906856594097</td>\n",
       "      <td>2022-06-24</td>\n",
       "      <td>t</td>\n",
       "      <td>890.0</td>\n",
       "      <td>1.0</td>\n",
       "      <td>365.0</td>\n",
       "    </tr>\n",
       "    <tr>\n",
       "      <th>5</th>\n",
       "      <td>645048906856594097</td>\n",
       "      <td>2022-06-25</td>\n",
       "      <td>t</td>\n",
       "      <td>890.0</td>\n",
       "      <td>1.0</td>\n",
       "      <td>365.0</td>\n",
       "    </tr>\n",
       "    <tr>\n",
       "      <th>6</th>\n",
       "      <td>645048906856594097</td>\n",
       "      <td>2022-06-26</td>\n",
       "      <td>t</td>\n",
       "      <td>890.0</td>\n",
       "      <td>1.0</td>\n",
       "      <td>365.0</td>\n",
       "    </tr>\n",
       "    <tr>\n",
       "      <th>7</th>\n",
       "      <td>645048906856594097</td>\n",
       "      <td>2022-06-27</td>\n",
       "      <td>t</td>\n",
       "      <td>890.0</td>\n",
       "      <td>1.0</td>\n",
       "      <td>365.0</td>\n",
       "    </tr>\n",
       "    <tr>\n",
       "      <th>8</th>\n",
       "      <td>645048906856594097</td>\n",
       "      <td>2022-06-28</td>\n",
       "      <td>t</td>\n",
       "      <td>890.0</td>\n",
       "      <td>1.0</td>\n",
       "      <td>365.0</td>\n",
       "    </tr>\n",
       "    <tr>\n",
       "      <th>9</th>\n",
       "      <td>645048906856594097</td>\n",
       "      <td>2022-06-29</td>\n",
       "      <td>t</td>\n",
       "      <td>890.0</td>\n",
       "      <td>1.0</td>\n",
       "      <td>365.0</td>\n",
       "    </tr>\n",
       "  </tbody>\n",
       "</table>\n",
       "</div>"
      ],
      "text/plain": [
       "           listing_id        date available  price  minimum_nights  maximum_nights\n",
       "0  645048906856594097  2022-06-20         t  890.0             1.0           365.0\n",
       "1  645048906856594097  2022-06-21         t  890.0             1.0           365.0\n",
       "2  645048906856594097  2022-06-22         t  890.0             1.0           365.0\n",
       "3  645048906856594097  2022-06-23         t  890.0             1.0           365.0\n",
       "4  645048906856594097  2022-06-24         t  890.0             1.0           365.0\n",
       "5  645048906856594097  2022-06-25         t  890.0             1.0           365.0\n",
       "6  645048906856594097  2022-06-26         t  890.0             1.0           365.0\n",
       "7  645048906856594097  2022-06-27         t  890.0             1.0           365.0\n",
       "8  645048906856594097  2022-06-28         t  890.0             1.0           365.0\n",
       "9  645048906856594097  2022-06-29         t  890.0             1.0           365.0"
      ]
     },
     "execution_count": 139,
     "metadata": {},
     "output_type": "execute_result"
    }
   ],
   "source": [
    "df_Carl.head(10)"
   ]
  },
  {
   "cell_type": "code",
   "execution_count": 99,
   "metadata": {},
   "outputs": [
    {
     "data": {
      "text/html": [
       "<div>\n",
       "<style scoped>\n",
       "    .dataframe tbody tr th:only-of-type {\n",
       "        vertical-align: middle;\n",
       "    }\n",
       "\n",
       "    .dataframe tbody tr th {\n",
       "        vertical-align: top;\n",
       "    }\n",
       "\n",
       "    .dataframe thead th {\n",
       "        text-align: right;\n",
       "    }\n",
       "</style>\n",
       "<table border=\"1\" class=\"dataframe\">\n",
       "  <thead>\n",
       "    <tr style=\"text-align: right;\">\n",
       "      <th></th>\n",
       "      <th>id</th>\n",
       "      <th>listing_url</th>\n",
       "      <th>scrape_id</th>\n",
       "      <th>last_scraped</th>\n",
       "      <th>name</th>\n",
       "      <th>description</th>\n",
       "      <th>neighborhood_overview</th>\n",
       "      <th>picture_url</th>\n",
       "      <th>host_id</th>\n",
       "      <th>host_url</th>\n",
       "      <th>host_name</th>\n",
       "      <th>host_since</th>\n",
       "      <th>host_about</th>\n",
       "      <th>host_response_time</th>\n",
       "      <th>host_response_rate</th>\n",
       "      <th>host_acceptance_rate</th>\n",
       "      <th>host_is_superhost</th>\n",
       "      <th>host_thumbnail_url</th>\n",
       "      <th>host_picture_url</th>\n",
       "      <th>host_has_profile_pic</th>\n",
       "      <th>host_identity_verified</th>\n",
       "      <th>neighbourhood_cleansed</th>\n",
       "      <th>latitude</th>\n",
       "      <th>longitude</th>\n",
       "      <th>property_type</th>\n",
       "      <th>room_type</th>\n",
       "      <th>accommodates</th>\n",
       "      <th>bathrooms_text</th>\n",
       "      <th>beds</th>\n",
       "      <th>amenities</th>\n",
       "      <th>review_scores_rating</th>\n",
       "      <th>license</th>\n",
       "      <th>instant_bookable</th>\n",
       "    </tr>\n",
       "  </thead>\n",
       "  <tbody>\n",
       "    <tr>\n",
       "      <th>0</th>\n",
       "      <td>645048906856594097</td>\n",
       "      <td>https://www.airbnb.com/rooms/645048906856594097</td>\n",
       "      <td>20220620202126</td>\n",
       "      <td>2022-06-20</td>\n",
       "      <td>Furnished 1 bedroom condo with beautiful view</td>\n",
       "      <td>🏢Condo For rent: Lumpini Ville Nakhon In-River...</td>\n",
       "      <td>Its in Lumpini building</td>\n",
       "      <td>https://a0.muscache.com/pictures/miso/Hosting-...</td>\n",
       "      <td>4663219</td>\n",
       "      <td>https://www.airbnb.com/users/show/4663219</td>\n",
       "      <td>Fawad</td>\n",
       "      <td>2013-01-11</td>\n",
       "      <td>I am tourist, would love to visit different co...</td>\n",
       "      <td>within an hour</td>\n",
       "      <td>100%</td>\n",
       "      <td>NaN</td>\n",
       "      <td>f</td>\n",
       "      <td>https://a0.muscache.com/im/users/4663219/profi...</td>\n",
       "      <td>https://a0.muscache.com/im/users/4663219/profi...</td>\n",
       "      <td>t</td>\n",
       "      <td>f</td>\n",
       "      <td>Bang Sue</td>\n",
       "      <td>13.843799</td>\n",
       "      <td>100.512203</td>\n",
       "      <td>Entire condo</td>\n",
       "      <td>Entire home/apt</td>\n",
       "      <td>2</td>\n",
       "      <td>1 bath</td>\n",
       "      <td>1.0</td>\n",
       "      <td>[Kitchen, Air conditioning, Free parking on pr...</td>\n",
       "      <td>NaN</td>\n",
       "      <td>NaN</td>\n",
       "      <td>t</td>\n",
       "    </tr>\n",
       "    <tr>\n",
       "      <th>1</th>\n",
       "      <td>15636062</td>\n",
       "      <td>https://www.airbnb.com/rooms/15636062</td>\n",
       "      <td>20220620202126</td>\n",
       "      <td>2022-06-20</td>\n",
       "      <td>Akesin place ngamwongwan</td>\n",
       "      <td>ที่ของฉันใกล้กับร้านอาหารและของกิน และ ขนส่งสา...</td>\n",
       "      <td>NaN</td>\n",
       "      <td>https://a0.muscache.com/pictures/f68098b9-3ff2...</td>\n",
       "      <td>100840975</td>\n",
       "      <td>https://www.airbnb.com/users/show/100840975</td>\n",
       "      <td>Supika</td>\n",
       "      <td>2016-10-23</td>\n",
       "      <td>NaN</td>\n",
       "      <td>NaN</td>\n",
       "      <td>NaN</td>\n",
       "      <td>NaN</td>\n",
       "      <td>f</td>\n",
       "      <td>https://a0.muscache.com/im/pictures/user/abac9...</td>\n",
       "      <td>https://a0.muscache.com/im/pictures/user/abac9...</td>\n",
       "      <td>t</td>\n",
       "      <td>f</td>\n",
       "      <td>Bang Sue</td>\n",
       "      <td>13.858900</td>\n",
       "      <td>100.527390</td>\n",
       "      <td>Private room in rental unit</td>\n",
       "      <td>Private room</td>\n",
       "      <td>2</td>\n",
       "      <td>1 bath</td>\n",
       "      <td>1.0</td>\n",
       "      <td>[Wifi, Kitchen, Washer, Air conditioning, Free...</td>\n",
       "      <td>NaN</td>\n",
       "      <td>NaN</td>\n",
       "      <td>f</td>\n",
       "    </tr>\n",
       "    <tr>\n",
       "      <th>2</th>\n",
       "      <td>39544047</td>\n",
       "      <td>https://www.airbnb.com/rooms/39544047</td>\n",
       "      <td>20220620202126</td>\n",
       "      <td>2022-06-20</td>\n",
       "      <td>IMPACT Thunder Dome Muangthong ND condo ( C1 )</td>\n",
       "      <td>NaN</td>\n",
       "      <td>IMPACT ศูนย์แสดงสินค้า  550 m&lt;br /&gt;IMPACT Chal...</td>\n",
       "      <td>https://a0.muscache.com/pictures/cc410e7d-922f...</td>\n",
       "      <td>303573998</td>\n",
       "      <td>https://www.airbnb.com/users/show/303573998</td>\n",
       "      <td>Noodee</td>\n",
       "      <td>2019-10-21</td>\n",
       "      <td>NaN</td>\n",
       "      <td>a few days or more</td>\n",
       "      <td>0%</td>\n",
       "      <td>NaN</td>\n",
       "      <td>f</td>\n",
       "      <td>https://a0.muscache.com/im/pictures/user/3ed3b...</td>\n",
       "      <td>https://a0.muscache.com/im/pictures/user/3ed3b...</td>\n",
       "      <td>t</td>\n",
       "      <td>t</td>\n",
       "      <td>Lak Si</td>\n",
       "      <td>13.907330</td>\n",
       "      <td>100.550940</td>\n",
       "      <td>Private room in condo</td>\n",
       "      <td>Private room</td>\n",
       "      <td>2</td>\n",
       "      <td>1 bath</td>\n",
       "      <td>1.0</td>\n",
       "      <td>[Shampoo, Kitchen, Air conditioning, Hangers, ...</td>\n",
       "      <td>4.67</td>\n",
       "      <td>NaN</td>\n",
       "      <td>t</td>\n",
       "    </tr>\n",
       "    <tr>\n",
       "      <th>3</th>\n",
       "      <td>34002624</td>\n",
       "      <td>https://www.airbnb.com/rooms/34002624</td>\n",
       "      <td>20220620202126</td>\n",
       "      <td>2022-06-20</td>\n",
       "      <td>Popular Condo Near IMPACT</td>\n",
       "      <td>คอนโดเมืองทองอยู่ในบริเวณเดียวกับศูนย์แสดงสินค...</td>\n",
       "      <td>คอนโดเมืองทองอยู่ในบริเวณเดียวกับศูนย์แสดงสินค...</td>\n",
       "      <td>https://a0.muscache.com/pictures/e4811699-0153...</td>\n",
       "      <td>256747704</td>\n",
       "      <td>https://www.airbnb.com/users/show/256747704</td>\n",
       "      <td>Krit</td>\n",
       "      <td>2019-04-19</td>\n",
       "      <td>NaN</td>\n",
       "      <td>NaN</td>\n",
       "      <td>NaN</td>\n",
       "      <td>100%</td>\n",
       "      <td>f</td>\n",
       "      <td>https://a0.muscache.com/im/pictures/user/afaec...</td>\n",
       "      <td>https://a0.muscache.com/im/pictures/user/afaec...</td>\n",
       "      <td>t</td>\n",
       "      <td>t</td>\n",
       "      <td>Lak Si</td>\n",
       "      <td>13.907680</td>\n",
       "      <td>100.554060</td>\n",
       "      <td>Private room in condo</td>\n",
       "      <td>Private room</td>\n",
       "      <td>2</td>\n",
       "      <td>1 private bath</td>\n",
       "      <td>1.0</td>\n",
       "      <td>[Shampoo, Air conditioning, TV, Hangers, Essen...</td>\n",
       "      <td>4.50</td>\n",
       "      <td>NaN</td>\n",
       "      <td>t</td>\n",
       "    </tr>\n",
       "    <tr>\n",
       "      <th>4</th>\n",
       "      <td>22678899</td>\n",
       "      <td>https://www.airbnb.com/rooms/22678899</td>\n",
       "      <td>20220620202126</td>\n",
       "      <td>2022-06-20</td>\n",
       "      <td>บ้านเบนซ์</td>\n",
       "      <td>เป็นหมู่บ้านขนาดใหญ่มีหลายเฟส บ้านเป็นทาวน์โฮม...</td>\n",
       "      <td>NaN</td>\n",
       "      <td>https://a0.muscache.com/pictures/02e4ae53-dbe6...</td>\n",
       "      <td>167136634</td>\n",
       "      <td>https://www.airbnb.com/users/show/167136634</td>\n",
       "      <td>เบนซ์</td>\n",
       "      <td>2018-01-11</td>\n",
       "      <td>ผมเปํ็นคนมีอัธยาศัยดี ไม่สูบบุหรี่ ไม่ดื่มเหล้า</td>\n",
       "      <td>NaN</td>\n",
       "      <td>NaN</td>\n",
       "      <td>NaN</td>\n",
       "      <td>f</td>\n",
       "      <td>https://a0.muscache.com/im/pictures/user/cc8e7...</td>\n",
       "      <td>https://a0.muscache.com/im/pictures/user/cc8e7...</td>\n",
       "      <td>t</td>\n",
       "      <td>f</td>\n",
       "      <td>Khlong Sam Wa</td>\n",
       "      <td>13.925490</td>\n",
       "      <td>100.720380</td>\n",
       "      <td>Private room in home</td>\n",
       "      <td>Private room</td>\n",
       "      <td>2</td>\n",
       "      <td>2 shared baths</td>\n",
       "      <td>1.0</td>\n",
       "      <td>[Shampoo, Kitchen, Air conditioning, Free park...</td>\n",
       "      <td>NaN</td>\n",
       "      <td>NaN</td>\n",
       "      <td>t</td>\n",
       "    </tr>\n",
       "  </tbody>\n",
       "</table>\n",
       "</div>"
      ],
      "text/plain": [
       "                   id                                      listing_url       scrape_id last_scraped                                            name                                        description                              neighborhood_overview                                        picture_url    host_id                                     host_url host_name  host_since                                         host_about  host_response_time host_response_rate host_acceptance_rate  \\\n",
       "0  645048906856594097  https://www.airbnb.com/rooms/645048906856594097  20220620202126   2022-06-20   Furnished 1 bedroom condo with beautiful view  🏢Condo For rent: Lumpini Ville Nakhon In-River...                            Its in Lumpini building  https://a0.muscache.com/pictures/miso/Hosting-...    4663219    https://www.airbnb.com/users/show/4663219     Fawad  2013-01-11  I am tourist, would love to visit different co...      within an hour               100%                  NaN   \n",
       "1            15636062            https://www.airbnb.com/rooms/15636062  20220620202126   2022-06-20                        Akesin place ngamwongwan  ที่ของฉันใกล้กับร้านอาหารและของกิน และ ขนส่งสา...                                                NaN  https://a0.muscache.com/pictures/f68098b9-3ff2...  100840975  https://www.airbnb.com/users/show/100840975    Supika  2016-10-23                                                NaN                 NaN                NaN                  NaN   \n",
       "2            39544047            https://www.airbnb.com/rooms/39544047  20220620202126   2022-06-20  IMPACT Thunder Dome Muangthong ND condo ( C1 )                                                NaN  IMPACT ศูนย์แสดงสินค้า  550 m<br />IMPACT Chal...  https://a0.muscache.com/pictures/cc410e7d-922f...  303573998  https://www.airbnb.com/users/show/303573998    Noodee  2019-10-21                                                NaN  a few days or more                 0%                  NaN   \n",
       "3            34002624            https://www.airbnb.com/rooms/34002624  20220620202126   2022-06-20                       Popular Condo Near IMPACT  คอนโดเมืองทองอยู่ในบริเวณเดียวกับศูนย์แสดงสินค...  คอนโดเมืองทองอยู่ในบริเวณเดียวกับศูนย์แสดงสินค...  https://a0.muscache.com/pictures/e4811699-0153...  256747704  https://www.airbnb.com/users/show/256747704      Krit  2019-04-19                                                NaN                 NaN                NaN                 100%   \n",
       "4            22678899            https://www.airbnb.com/rooms/22678899  20220620202126   2022-06-20                                       บ้านเบนซ์  เป็นหมู่บ้านขนาดใหญ่มีหลายเฟส บ้านเป็นทาวน์โฮม...                                                NaN  https://a0.muscache.com/pictures/02e4ae53-dbe6...  167136634  https://www.airbnb.com/users/show/167136634     เบนซ์  2018-01-11    ผมเปํ็นคนมีอัธยาศัยดี ไม่สูบบุหรี่ ไม่ดื่มเหล้า                 NaN                NaN                  NaN   \n",
       "\n",
       "  host_is_superhost                                 host_thumbnail_url                                   host_picture_url host_has_profile_pic host_identity_verified neighbourhood_cleansed   latitude   longitude                property_type        room_type  accommodates  bathrooms_text  beds                                          amenities  review_scores_rating  license instant_bookable  \n",
       "0                 f  https://a0.muscache.com/im/users/4663219/profi...  https://a0.muscache.com/im/users/4663219/profi...                    t                      f               Bang Sue  13.843799  100.512203                 Entire condo  Entire home/apt             2          1 bath   1.0  [Kitchen, Air conditioning, Free parking on pr...                   NaN      NaN                t  \n",
       "1                 f  https://a0.muscache.com/im/pictures/user/abac9...  https://a0.muscache.com/im/pictures/user/abac9...                    t                      f               Bang Sue  13.858900  100.527390  Private room in rental unit     Private room             2          1 bath   1.0  [Wifi, Kitchen, Washer, Air conditioning, Free...                   NaN      NaN                f  \n",
       "2                 f  https://a0.muscache.com/im/pictures/user/3ed3b...  https://a0.muscache.com/im/pictures/user/3ed3b...                    t                      t                 Lak Si  13.907330  100.550940        Private room in condo     Private room             2          1 bath   1.0  [Shampoo, Kitchen, Air conditioning, Hangers, ...                  4.67      NaN                t  \n",
       "3                 f  https://a0.muscache.com/im/pictures/user/afaec...  https://a0.muscache.com/im/pictures/user/afaec...                    t                      t                 Lak Si  13.907680  100.554060        Private room in condo     Private room             2  1 private bath   1.0  [Shampoo, Air conditioning, TV, Hangers, Essen...                  4.50      NaN                t  \n",
       "4                 f  https://a0.muscache.com/im/pictures/user/cc8e7...  https://a0.muscache.com/im/pictures/user/cc8e7...                    t                      f          Khlong Sam Wa  13.925490  100.720380         Private room in home     Private room             2  2 shared baths   1.0  [Shampoo, Kitchen, Air conditioning, Free park...                   NaN      NaN                t  "
      ]
     },
     "execution_count": 99,
     "metadata": {},
     "output_type": "execute_result"
    }
   ],
   "source": [
    "df_List.head(5)"
   ]
  },
  {
   "cell_type": "code",
   "execution_count": 100,
   "metadata": {},
   "outputs": [
    {
     "name": "stdout",
     "output_type": "stream",
     "text": [
      "6231645 17073\n"
     ]
    }
   ],
   "source": [
    "# 1\n",
    "print(len(df_Carl),len(df_List)) #1"
   ]
  },
  {
   "cell_type": "code",
   "execution_count": 101,
   "metadata": {},
   "outputs": [
    {
     "data": {
      "text/plain": [
       "73"
      ]
     },
     "execution_count": 101,
     "metadata": {},
     "output_type": "execute_result"
    }
   ],
   "source": [
    "# 2\n",
    "listing_properties = df_List[(df_List['neighbourhood_cleansed'] == 'Bang Sue') & (df_List['beds'] > 1.0)]\n",
    "len(listing_properties)"
   ]
  },
  {
   "cell_type": "code",
   "execution_count": 102,
   "metadata": {},
   "outputs": [
    {
     "data": {
      "text/plain": [
       "Long term stays allowed    16168\n",
       "Air conditioning           15883\n",
       "Wifi                       14496\n",
       "Name: amenities, dtype: int64"
      ]
     },
     "execution_count": 102,
     "metadata": {},
     "output_type": "execute_result"
    }
   ],
   "source": [
    "# 3\n",
    "amenities = df_List['amenities'].explode()\n",
    "amenities.unique()\n",
    "amenities.explode().value_counts().head(3)"
   ]
  },
  {
   "cell_type": "code",
   "execution_count": 103,
   "metadata": {},
   "outputs": [
    {
     "data": {
      "text/plain": [
       "512190"
      ]
     },
     "execution_count": 103,
     "metadata": {},
     "output_type": "execute_result"
    }
   ],
   "source": [
    "# 4\n",
    "sep_2022_amount = df_Carl[df_Carl['date'].str.contains('2022-09')]\n",
    "len(sep_2022_amount)"
   ]
  },
  {
   "cell_type": "code",
   "execution_count": 129,
   "metadata": {},
   "outputs": [
    {
     "data": {
      "text/plain": [
       "1417827.397260274"
      ]
     },
     "execution_count": 129,
     "metadata": {},
     "output_type": "execute_result"
    }
   ],
   "source": [
    "# 5\n",
    "same_listing_id_price = df_Carl.groupby(\"listing_id\")[\"price\"]\n",
    "avg_prices = same_listing_id_price.mean()\n",
    "highest_avg_price = avg_prices.max()\n",
    "max_price = same_listing_id_price.max()\n",
    "min_price = same_listing_id_price.min()\n",
    "highest_avg_price\n"
   ]
  },
  {
   "cell_type": "code",
   "execution_count": 133,
   "metadata": {},
   "outputs": [
    {
     "data": {
      "text/plain": [
       "43"
      ]
     },
     "execution_count": 133,
     "metadata": {},
     "output_type": "execute_result"
    }
   ],
   "source": [
    "# 6\n",
    "price_diffs = max_price - min_price\n",
    "\n",
    "price_diffs[price_diffs > 10000].shape[0]"
   ]
  },
  {
   "cell_type": "code",
   "execution_count": 135,
   "metadata": {},
   "outputs": [
    {
     "data": {
      "text/plain": [
       "12"
      ]
     },
     "execution_count": 135,
     "metadata": {},
     "output_type": "execute_result"
    }
   ],
   "source": [
    "# 7\n",
    "z_scores = np.abs((price_diffs - price_diffs.mean()) / price_diffs.std())\n",
    "outliers = z_scores[z_scores > 3.0]\n",
    "outliers.shape[0]"
   ]
  },
  {
   "cell_type": "code",
   "execution_count": 156,
   "metadata": {},
   "outputs": [
    {
     "data": {
      "text/plain": [
       "array(['Nuttawut', 'Pongwich', 'FoRest', 'Oliver', 'Rohan', 'May',\n",
       "       'Keiko And Pete'], dtype=object)"
      ]
     },
     "execution_count": 156,
     "metadata": {},
     "output_type": "execute_result"
    }
   ],
   "source": [
    "# 8\n",
    "outliers_id = outliers.index.tolist()\n",
    "outliers_list = df_Carl[df_Carl[\"listing_id\"].isin(outliers_id)]\n",
    "merge_outliers_id = pd.merge(outliers_list, df_List, left_on='listing_id', right_on='id', how='inner')\n",
    "merge_outliers_id['host_name'].unique()"
   ]
  },
  {
   "cell_type": "code",
   "execution_count": 157,
   "metadata": {},
   "outputs": [
    {
     "data": {
      "text/plain": [
       "Nuttawut          1825\n",
       "Rohan              730\n",
       "Pongwich           365\n",
       "FoRest             365\n",
       "Oliver             365\n",
       "May                365\n",
       "Keiko And Pete     365\n",
       "Name: host_name, dtype: int64"
      ]
     },
     "execution_count": 157,
     "metadata": {},
     "output_type": "execute_result"
    }
   ],
   "source": [
    "# 9\n",
    "merge_outliers_id['host_name'].value_counts()\n"
   ]
  },
  {
   "cell_type": "code",
   "execution_count": 109,
   "metadata": {},
   "outputs": [],
   "source": [
    "# 10"
   ]
  },
  {
   "cell_type": "code",
   "execution_count": 110,
   "metadata": {},
   "outputs": [],
   "source": [
    "# 11"
   ]
  },
  {
   "cell_type": "code",
   "execution_count": 111,
   "metadata": {},
   "outputs": [],
   "source": [
    "# 12"
   ]
  },
  {
   "cell_type": "code",
   "execution_count": 112,
   "metadata": {},
   "outputs": [],
   "source": [
    "# 13"
   ]
  },
  {
   "cell_type": "code",
   "execution_count": 113,
   "metadata": {},
   "outputs": [],
   "source": [
    "# 14"
   ]
  },
  {
   "cell_type": "code",
   "execution_count": 114,
   "metadata": {},
   "outputs": [],
   "source": [
    "# 15"
   ]
  }
 ],
 "metadata": {
  "kernelspec": {
   "display_name": "Python 3",
   "language": "python",
   "name": "python3"
  },
  "language_info": {
   "codemirror_mode": {
    "name": "ipython",
    "version": 3
   },
   "file_extension": ".py",
   "mimetype": "text/x-python",
   "name": "python",
   "nbconvert_exporter": "python",
   "pygments_lexer": "ipython3",
   "version": "3.9.18"
  }
 },
 "nbformat": 4,
 "nbformat_minor": 2
}
