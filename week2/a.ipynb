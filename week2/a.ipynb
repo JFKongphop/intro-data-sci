{
 "cells": [
  {
   "cell_type": "code",
   "execution_count": 37,
   "metadata": {},
   "outputs": [],
   "source": [
    "import pandas as pd\n",
    "\n",
    "pd.set_option('display.max_columns', 50)\n",
    "pd.set_option('display.width', 2000)\n",
    "\n",
    "df = pd.read_csv('StudentsPerformance.csv')"
   ]
  },
  {
   "cell_type": "code",
   "execution_count": 38,
   "metadata": {},
   "outputs": [],
   "source": [
    "def grade_calculation(grade: int) -> str:\n",
    "  g = 'F'\n",
    "  if grade >= 80:\n",
    "    g = 'A'\n",
    "  elif grade >= 70:\n",
    "    g = 'B'\n",
    "  elif grade >= 60:\n",
    "    g = 'C'\n",
    "  elif grade >= 50:\n",
    "    g = 'D'\n",
    "  return g\n"
   ]
  },
  {
   "cell_type": "code",
   "execution_count": 42,
   "metadata": {},
   "outputs": [],
   "source": [
    "def separate_education(education: str) -> int:\n",
    "  number_of_who_got_a = df[df['parental level of education'] == education]['grade'].value_counts().get('A', 0)\n",
    "  return number_of_who_got_a"
   ]
  },
  {
   "cell_type": "code",
   "execution_count": 55,
   "metadata": {},
   "outputs": [
    {
     "name": "stdout",
     "output_type": "stream",
     "text": [
      "66.089\n",
      "69.169\n",
      "68.054\n",
      "Student who got A: 196\n",
      "Male who get A is: 18.04979253112033 %\n",
      "high is more than aso is: False\n",
      "  parental level of education  Count\n",
      "0          associate's degree     53\n",
      "1           bachelor's degree     31\n",
      "2                 high school     19\n",
      "3             master's degree     21\n",
      "4                some college     45\n",
      "5            some high school     27\n",
      "  parental level of education  math score\n",
      "0          associate's degree   67.882883\n",
      "1           bachelor's degree   69.389831\n",
      "2                 high school   62.137755\n",
      "3             master's degree   69.745763\n",
      "4                some college   67.128319\n",
      "5            some high school   63.497207\n"
     ]
    }
   ],
   "source": [
    "\n",
    "\n",
    "print(df['math score'].mean())\n",
    "print(df['reading score'].mean())\n",
    "print(df['writing score'].mean())\n",
    "\n",
    "df['average score'] = (df['math score'] * 0.5) + (df['reading score'] * 0.25) + (df['writing score'] * 0.25)\n",
    "\n",
    "df['grade'] = df['average score'].apply(lambda x: grade_calculation(x))\n",
    "\n",
    "count = df['grade'].value_counts()['A']\n",
    "\n",
    "grade_counts = df['grade'].value_counts()\n",
    "count_grade_A = grade_counts.get('A', 0)\n",
    "\n",
    "print(f\"Student who got A: {count_grade_A}\")\n",
    "\n",
    "all_male_students = df['gender'].value_counts()['male']\n",
    "\n",
    "male_students = df[df['gender'] == 'male']['grade'].value_counts()\n",
    "male_who_got_A = male_students.get('A', 0)\n",
    "\n",
    "print(\"Male who get A is:\", (male_who_got_A / all_male_students) * 100, \"%\")\n",
    "\n",
    "aso_student_who_got_A = separate_education(\"associate's degree\")\n",
    "high_student_who_got_A = separate_education(\"high school\")\n",
    "print(\"high is more than aso is:\", high_student_who_got_A > aso_student_who_got_A)\n",
    "\n",
    "grade_A_students = df[df['grade'] == 'A']\n",
    "\n",
    "grade_A_counts = grade_A_students.groupby('parental level of education').size().reset_index(name='Count')\n",
    "print(grade_A_counts)\n",
    "\n",
    "average_math_scores = df.groupby('parental level of education')['math score'].mean().reset_index()\n",
    "print(average_math_scores)\n"
   ]
  }
 ],
 "metadata": {
  "kernelspec": {
   "display_name": "Python 3",
   "language": "python",
   "name": "python3"
  },
  "language_info": {
   "codemirror_mode": {
    "name": "ipython",
    "version": 3
   },
   "file_extension": ".py",
   "mimetype": "text/x-python",
   "name": "python",
   "nbconvert_exporter": "python",
   "pygments_lexer": "ipython3",
   "version": "3.9.18"
  }
 },
 "nbformat": 4,
 "nbformat_minor": 2
}
